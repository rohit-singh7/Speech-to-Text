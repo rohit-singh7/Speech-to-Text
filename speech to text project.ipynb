{
 "cells": [
  {
   "cell_type": "code",
   "execution_count": 1,
   "metadata": {
    "collapsed": true
   },
   "outputs": [],
   "source": [
    "import speech_recognition as SRG"
   ]
  },
  {
   "cell_type": "code",
   "execution_count": 2,
   "metadata": {
    "collapsed": true
   },
   "outputs": [],
   "source": [
    "import time"
   ]
  },
  {
   "cell_type": "code",
   "execution_count": 6,
   "metadata": {},
   "outputs": [
    {
     "name": "stdout",
     "output_type": "stream",
     "text": [
      "Speak...\n",
      "Recording time: 02:12:44\n",
      "Text converted from audio:\n",
      "\n",
      "I love u Jaan\n",
      "finished!\n",
      "Execution time: 02:12:51\n"
     ]
    }
   ],
   "source": [
    "store=SRG.Recognizer()\n",
    "with SRG.Microphone() as s:\n",
    "    print(\"Speak...\")\n",
    "    \n",
    "    audio_input=store.record(s,duration=10)\n",
    "    print(\"Recording time:\",time.strftime(\"%I:%M:%S\"))\n",
    "    \n",
    "    try:\n",
    "        text_output=store.recognize_google(audio_input)\n",
    "        print(\"Text converted from audio:\\n\")\n",
    "        print(text_output)\n",
    "        print(\"finished!\")\n",
    "        \n",
    "        print(\"Execution time:\",time.strftime(\"%I:%M:%S\"))\n",
    "        \n",
    "    except:\n",
    "        print(\"could not process input\")\n",
    "        "
   ]
  },
  {
   "cell_type": "code",
   "execution_count": null,
   "metadata": {
    "collapsed": true
   },
   "outputs": [],
   "source": []
  }
 ],
 "metadata": {
  "kernelspec": {
   "display_name": "Python 3",
   "language": "python",
   "name": "python3"
  },
  "language_info": {
   "codemirror_mode": {
    "name": "ipython",
    "version": 3
   },
   "file_extension": ".py",
   "mimetype": "text/x-python",
   "name": "python",
   "nbconvert_exporter": "python",
   "pygments_lexer": "ipython3",
   "version": "3.6.1"
  }
 },
 "nbformat": 4,
 "nbformat_minor": 2
}
